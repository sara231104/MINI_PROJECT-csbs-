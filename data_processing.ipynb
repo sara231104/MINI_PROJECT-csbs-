{
 "cells": [
  {
   "cell_type": "code",
   "execution_count": 3,
   "id": "d882e6a6",
   "metadata": {},
   "outputs": [
    {
     "name": "stdout",
     "output_type": "stream",
     "text": [
      "   duration  protocol_type  service  flag  src_bytes  dst_bytes  land  \\\n",
      "0         0              1       45     1        0.1        0.2   0.3   \n",
      "1         0              1       45     1        0.0        0.0   0.0   \n",
      "2         2              1       19     9    12983.0        0.0   0.0   \n",
      "3         0              0       13     9       20.0        0.0   0.0   \n",
      "4         1              1       55     2        0.0       15.0   0.0   \n",
      "\n",
      "   wrong_fragment  urgent  hot  ...  dst_host_same_srv_rate  \\\n",
      "0             0.4     0.5  0.6  ...                  0.04.1   \n",
      "1             0.0     0.0  0.0  ...                     0.0   \n",
      "2             0.0     0.0  0.0  ...                    0.61   \n",
      "3             0.0     0.0  0.0  ...                     1.0   \n",
      "4             0.0     0.0  0.0  ...                    0.31   \n",
      "\n",
      "   dst_host_diff_srv_rate  dst_host_same_src_port_rate  \\\n",
      "0                  0.06.1                       0.00.3   \n",
      "1                    0.06                          0.0   \n",
      "2                    0.04                         0.61   \n",
      "3                     0.0                          1.0   \n",
      "4                    0.17                         0.03   \n",
      "\n",
      "   dst_host_srv_diff_host_rate  dst_host_serror_rate  \\\n",
      "0                       0.00.4                0.00.5   \n",
      "1                          0.0                   0.0   \n",
      "2                         0.02                   0.0   \n",
      "3                         0.28                   0.0   \n",
      "4                         0.02                   0.0   \n",
      "\n",
      "   dst_host_srv_serror_rate  dst_host_rerror_rate  dst_host_srv_rerror_rate  \\\n",
      "0                    0.00.6                1.00.2                    1.00.3   \n",
      "1                       0.0                   1.0                       1.0   \n",
      "2                       0.0                   0.0                       0.0   \n",
      "3                       0.0                   0.0                       0.0   \n",
      "4                       0.0                  0.83                      0.71   \n",
      "\n",
      "     label  difficulty  \n",
      "0  neptune          21  \n",
      "1  neptune          21  \n",
      "2   normal          21  \n",
      "3    saint          15  \n",
      "4    mscan          11  \n",
      "\n",
      "[5 rows x 43 columns]\n"
     ]
    },
    {
     "name": "stderr",
     "output_type": "stream",
     "text": [
      "C:\\Users\\kavya\\AppData\\Local\\Temp\\ipykernel_7316\\3399412714.py:6: DtypeWarning: Columns (25,27,30,33,34,35,36,37,38,39,40) have mixed types. Specify dtype option on import or set low_memory=False.\n",
      "  df = pd.read_csv(\"test_.csv\")\n"
     ]
    }
   ],
   "source": [
    "\n",
    "#label encoding for test_dataset\n",
    "import pandas as pd\n",
    "from sklearn.preprocessing import LabelEncoder\n",
    "\n",
    "# Load your dataset\n",
    "df = pd.read_csv(\"test_.csv\")\n",
    "\n",
    "# Columns that need label encoding\n",
    "categorical_cols = ['protocol_type', 'service', 'flag']\n",
    "\n",
    "# Apply Label Encoding\n",
    "label_encoders = {}\n",
    "for col in categorical_cols:\n",
    "    le = LabelEncoder()\n",
    "    df[col] = le.fit_transform(df[col])\n",
    "    label_encoders[col] = le  # store encoder for inverse transform if needed\n",
    "\n",
    "# Check result\n",
    "print(df.head())"
   ]
  },
  {
   "cell_type": "code",
   "execution_count": 4,
   "id": "bf9a065f",
   "metadata": {},
   "outputs": [
    {
     "name": "stdout",
     "output_type": "stream",
     "text": [
      "   duration  protocol_type  service  flag  src_bytes  dst_bytes  land  \\\n",
      "0         0              1       20     9        491        0.1   0.2   \n",
      "1         0              2       44     9        146        0.0   0.0   \n",
      "2         0              1       49     5          0        0.0   0.0   \n",
      "3         0              1       24     9        232     8153.0   0.0   \n",
      "4         0              1       24     9        199      420.0   0.0   \n",
      "\n",
      "   wrong_fragment  urgent  hot  ...  dst_host_same_srv_rate  \\\n",
      "0             0.3     0.4  0.5  ...                    0.17   \n",
      "1             0.0     0.0  0.0  ...                    0.00   \n",
      "2             0.0     0.0  0.0  ...                    0.10   \n",
      "3             0.0     0.0  0.0  ...                    1.00   \n",
      "4             0.0     0.0  0.0  ...                    1.00   \n",
      "\n",
      "   dst_host_diff_srv_rate  dst_host_same_src_port_rate  \\\n",
      "0                    0.03                       0.17.1   \n",
      "1                    0.60                         0.88   \n",
      "2                    0.05                          0.0   \n",
      "3                    0.00                         0.03   \n",
      "4                    0.00                          0.0   \n",
      "\n",
      "   dst_host_srv_diff_host_rate  dst_host_serror_rate  \\\n",
      "0                       0.00.6                0.00.7   \n",
      "1                          0.0                   0.0   \n",
      "2                          0.0                   1.0   \n",
      "3                         0.04                  0.03   \n",
      "4                          0.0                   0.0   \n",
      "\n",
      "   dst_host_srv_serror_rate  dst_host_rerror_rate  dst_host_srv_rerror_rate  \\\n",
      "0                    0.00.8                  0.05                    0.00.9   \n",
      "1                       0.0                  0.00                       0.0   \n",
      "2                       1.0                  0.00                       0.0   \n",
      "3                      0.01                  0.00                      0.01   \n",
      "4                       0.0                  0.00                       0.0   \n",
      "\n",
      "     label  difficulty  \n",
      "0   normal          20  \n",
      "1   normal          15  \n",
      "2  neptune          19  \n",
      "3   normal          21  \n",
      "4   normal          21  \n",
      "\n",
      "[5 rows x 43 columns]\n"
     ]
    },
    {
     "name": "stderr",
     "output_type": "stream",
     "text": [
      "C:\\Users\\kavya\\AppData\\Local\\Temp\\ipykernel_7316\\3462859422.py:7: DtypeWarning: Columns (25,26,27,29,30,35,36,37,38,40) have mixed types. Specify dtype option on import or set low_memory=False.\n",
      "  df = pd.read_csv(\"train_.csv\")\n"
     ]
    }
   ],
   "source": [
    "#label encoding for train dataset\n",
    "\n",
    "import pandas as pd\n",
    "from sklearn.preprocessing import LabelEncoder\n",
    "\n",
    "# Load your dataset\n",
    "df = pd.read_csv(\"train_.csv\")\n",
    "\n",
    "# Columns that need label encoding\n",
    "categorical_cols = ['protocol_type', 'service', 'flag']\n",
    "\n",
    "# Apply Label Encoding\n",
    "label_encoders = {}\n",
    "for col in categorical_cols:\n",
    "    le = LabelEncoder()\n",
    "    df[col] = le.fit_transform(df[col])\n",
    "    label_encoders[col] = le  # store encoder for inverse transform if needed\n",
    "\n",
    "# Check result\n",
    "print(df.head())"
   ]
  },
  {
   "cell_type": "code",
   "execution_count": null,
   "id": "67019b35",
   "metadata": {},
   "outputs": [
    {
     "name": "stderr",
     "output_type": "stream",
     "text": [
      "C:\\Users\\kavya\\AppData\\Local\\Temp\\ipykernel_7316\\183443481.py:5: DtypeWarning: Columns (25,26,27,29,30,35,36,37,38,40) have mixed types. Specify dtype option on import or set low_memory=False.\n",
      "  df = pd.read_csv(\"train_.csv\")\n"
     ]
    }
   ],
   "source": [
    "#minmax normaization for test dataset\n",
    "\n",
    "import pandas as pd\n",
    "from sklearn.preprocessing import MinMaxScaler\n",
    "\n",
    "# Load CSV with headers\n",
    "df = pd.read_csv(\"train_.csv\")\n",
    "\n",
    "# Select numeric columns only (exclude categorical like protocol_type, service, flag, label, difficulty)\n",
    "numeric_cols = df.select_dtypes(include=['int64','float64']).columns\n",
    "\n",
    "# Initialize MinMaxScaler\n",
    "scaler = MinMaxScaler()\n",
    "\n",
    "# Apply Min-Max scaling\n",
    "df[numeric_cols] = scaler.fit_transform(df[numeric_cols])\n",
    "\n",
    "# Save normalized CSV\n",
    "df.to_csv(\"train_normalized.csv\", index=False)\n"
   ]
  },
  {
   "cell_type": "code",
   "execution_count": null,
   "id": "9649ca14",
   "metadata": {},
   "outputs": [
    {
     "name": "stderr",
     "output_type": "stream",
     "text": [
      "C:\\Users\\kavya\\AppData\\Local\\Temp\\ipykernel_7316\\663773597.py:5: DtypeWarning: Columns (25,27,30,33,34,35,36,37,38,39,40) have mixed types. Specify dtype option on import or set low_memory=False.\n",
      "  df = pd.read_csv(\"test_.csv\")\n"
     ]
    }
   ],
   "source": [
    "#minmax normaization for test dataset\n",
    "\n",
    "import pandas as pd\n",
    "from sklearn.preprocessing import MinMaxScaler\n",
    "\n",
    "# Load CSV with headers\n",
    "df = pd.read_csv(\"test_.csv\")\n",
    "\n",
    "# Select numeric columns only (exclude categorical like protocol_type, service, flag, label, difficulty)\n",
    "numeric_cols = df.select_dtypes(include=['int64','float64']).columns\n",
    "\n",
    "# Initialize MinMaxScaler\n",
    "scaler = MinMaxScaler()\n",
    "\n",
    "# Apply Min-Max scaling\n",
    "df[numeric_cols] = scaler.fit_transform(df[numeric_cols])\n",
    "\n",
    "# Save normalized CSV\n",
    "df.to_csv(\"test_normalized.csv\", index=False)\n"
   ]
  },
  {
   "cell_type": "code",
   "execution_count": 12,
   "id": "2ad3ea0a",
   "metadata": {},
   "outputs": [
    {
     "name": "stderr",
     "output_type": "stream",
     "text": [
      "C:\\Users\\kavya\\AppData\\Local\\Temp\\ipykernel_7316\\194823117.py:7: DtypeWarning: Columns (25,26,27,29,30,35,36,37,38,40) have mixed types. Specify dtype option on import or set low_memory=False.\n",
      "  df = pd.read_csv(\"train_.csv\")\n",
      "C:\\Users\\kavya\\AppData\\Roaming\\Python\\Python313\\site-packages\\statsmodels\\stats\\outliers_influence.py:847: RuntimeWarning: invalid value encountered in sqrt\n",
      "  return self.resid / sigma / np.sqrt(1 - hii)\n"
     ]
    },
    {
     "data": {
      "image/png": "[encoded data removed]",
      "text/plain": [
       "<Figure size 1000x600 with 1 Axes>"
      ]
     },
     "metadata": {},
     "output_type": "display_data"
    },
    {
     "name": "stdout",
     "output_type": "stream",
     "text": [
      "Influential points (outliers) detected: [0, 43, 115, 146, 190, 254, 289, 303, 349, 396, 405, 429, 527, 528, 533, 556, 591, 605, 616, 631, 776, 785, 976, 1016, 1038, 1047, 1060, 1080, 1097, 1141, 1178, 1235, 1296, 1333, 1357, 1388, 1391, 1460, 1490, 1494, 1522, 1529, 1649, 1740, 1795, 1801, 1889, 1916, 1944, 1996, 2029, 2056, 2082, 2119, 2136, 2242, 2256, 2273, 2303, 2407, 2445, 2550, 2579, 2636, 2654, 2726, 2728, 2798, 2811, 2835, 2843, 2892, 2992, 2993, 3005, 3013, 3023, 3024, 3049, 3061, 3084, 3118, 3173, 3280, 3314, 3347, 3381, 3482, 3486, 3501, 3532, 3561, 3592, 3602, 3626, 3635, 3650, 3660, 3686, 3715, 3738, 3755, 3781, 3794, 3826, 3857, 3903, 3969, 4205, 4220, 4229, 4274, 4352, 4525, 4535, 4547, 4553, 4620, 4631, 4645, 4677, 4718, 4719, 4751, 4764, 4836, 4865, 4873, 4915, 4930, 4943, 5084, 5097, 5116, 5271, 5359, 5382, 5387, 5407, 5417, 5486, 5580, 5616, 5762, 5820, 5829, 5840, 5868, 5930, 5960, 5987, 6075, 6107, 6111, 6172, 6176, 6222, 6354, 6391, 6413, 6425, 6466, 6569, 6572, 6604, 6636, 6683, 6730, 6733, 6757, 6767, 6777, 6784, 6905, 6976, 6991, 7068, 7114, 7258, 7267, 7344, 7346, 7353, 7479, 7585, 7688, 7744, 7794, 7899, 7915, 8004, 8046, 8091, 8178, 8231, 8245, 8272, 8287, 8302, 8332, 8375, 8410, 8518, 8618, 8641, 8643, 8675, 8688, 8804, 8805, 8826, 8903, 8905, 8913, 9029, 9158, 9168, 9173, 9224, 9288, 9300, 9339, 9369, 9390, 9391, 9395, 9468, 9561, 9672, 9694, 9757, 9878, 9944, 9952, 9954, 9957, 9972, 9993, 10006, 10047, 10066, 10134, 10216, 10242, 10262, 10276, 10427, 10523, 10557, 10569, 10580, 10653, 10657, 10685, 10692, 10696, 10738, 10745, 10772, 10827, 10927, 10941, 10970, 10980, 10994, 11057, 11087, 11114, 11120, 11180, 11196, 11253, 11289, 11292, 11309, 11335, 11356, 11380, 11397, 11440, 11448, 11480, 11512, 11517, 11551, 11623, 11668, 11688, 11713, 11759, 11785, 11791, 11826, 11833, 11895, 11954, 11972, 11994, 12008, 12021, 12061, 12162, 12201, 12288, 12309, 12375, 12441, 12504, 12511, 12532, 12555, 12590, 12629, 12649, 12715, 12731, 12883, 12963, 13001, 13011, 13021, 13060, 13069, 13156, 13159, 13172, 13210, 13216, 13218, 13228, 13357, 13378, 13401, 13413, 13452, 13456, 13597, 13599, 13655, 13664, 13686, 13751, 13778, 13859, 13908, 13909, 13927, 13999, 14078, 14099, 14142, 14211, 14321, 14371, 14382, 14397, 14404, 14444, 14470, 14473, 14552, 14677, 14751, 14781, 14792, 14905, 14927, 14943, 14966, 15018, 15125, 15159, 15175, 15232, 15243, 15421, 15436, 15495, 15509, 15601, 15679, 15698, 15741, 15790, 15840, 15880, 15906, 15931, 15938, 15993, 16081, 16123, 16127, 16145, 16235, 16237, 16268, 16275, 16322, 16385, 16451, 16476, 16495, 16564, 16616, 16642, 16702, 16747, 16824, 16853, 16892, 17007, 17073, 17136, 17238, 17254, 17286, 17309, 17314, 17326, 17389, 17394, 17449, 17488, 17490, 17522, 17562, 17621, 17676, 17698, 17701, 17796, 17811, 17865, 17884, 17885, 17910, 17927, 18008, 18019, 18073, 18080, 18097, 18110, 18113, 18128, 18147, 18243, 18247, 18310, 18448, 18459, 18463, 18464, 18582, 18593, 18604, 18695, 18801, 18818, 18964, 19030, 19052, 19053, 19115, 19165, 19193, 19246, 19284, 19377, 19399, 19448, 19464, 19517, 19522, 19542, 19553, 19684, 19706, 19837, 19859, 19893, 19930, 19934, 19953, 19985, 20001, 20026, 20028, 20072, 20079, 20128, 20151, 20152, 20258, 20263, 20275, 20295, 20381, 20477, 20502, 20533, 20566, 20614, 20615, 20662, 20764, 20792, 20933, 21074, 21127, 21147, 21159, 21242, 21336, 21359, 21411, 21538, 21589, 21592, 21652, 21676, 21733, 21740, 21822, 21921, 21943, 21958, 22078, 22114, 22115, 22187, 22202, 22219, 22240, 22241, 22262, 22276, 22285, 22290, 22311, 22338, 22342, 22354, 22387, 22388, 22397, 22407, 22474, 22519, 22569, 22570, 22604, 22656, 22671, 22697, 22798, 22808, 22846, 22898, 22959, 22990, 22998, 23017, 23027, 23037, 23119, 23166, 23204, 23206, 23207, 23211, 23218, 23261, 23271, 23275, 23284, 23300, 23336, 23341, 23428, 23432, 23466, 23515, 23638, 23660, 23689, 23701, 23786, 23953, 23954, 23987, 24019, 24020, 24119, 24130, 24143, 24246, 24370, 24471, 24503, 24524, 24530, 24660, 24675, 24686, 24742, 24748, 24764, 24783, 24810, 24830, 24886, 24903, 24946, 25061, 25089, 25095, 25235, 25248, 25257, 25288, 25313, 25339, 25453, 25478, 25513, 25521, 25557, 25561, 25575, 25616, 25635, 25653, 25709, 25734, 25851, 25889, 25917, 25966, 25981, 25995, 26012, 26106, 26213, 26214, 26272, 26311, 26342, 26354, 26413, 26471, 26561, 26646, 26721, 26748, 26756, 26757, 26781, 26797, 26811, 26812, 26815, 26861, 26872, 26883, 26886, 26947, 27032, 27073, 27082, 27130, 27245, 27246, 27293, 27451, 27532, 27590, 27649, 27676, 27700, 27827, 27837, 27867, 27930, 27998, 28020, 28091, 28166, 28179, 28258, 28336, 28356, 28506, 28515, 28689, 28724, 28728, 28756, 28780, 28801, 28806, 28863, 28891, 29000, 29032, 29089, 29170, 29248, 29253, 29278, 29309, 29331, 29388, 29399, 29570, 29751, 29780, 29812, 29897, 29916, 29939, 29960, 29982, 29991, 30255, 30363, 30414, 30421, 30461, 30481, 30533, 30621, 30657, 30989, 31043, 31105, 31166, 31240, 31289, 31321, 31392, 31411, 31421, 31431, 31466, 31486, 31492, 31559, 31580, 31650, 31654, 31687, 31711, 31716, 31774, 31778, 31783, 31800, 31813, 31843, 31880, 31907, 31932, 31994, 32032, 32090, 32144, 32168, 32239, 32258, 32265, 32318, 32367, 32401, 32424, 32478, 32533, 32554, 32609, 32624, 32627, 32643, 32661, 32665, 32699, 32728, 32807, 32833, 32887, 32959, 32978, 32998, 33091, 33160, 33183, 33213, 33238, 33299, 33438, 33454, 33464, 33666, 33674, 33677, 33702, 33748, 33789, 33810, 33812, 33865, 33904, 33915, 33927, 33958, 34012, 34031, 34072, 34087, 34228, 34245, 34268, 34273, 34274, 34394, 34409, 34464, 34553, 34680, 34685, 34730, 34733, 34763, 34765, 34780, 34995, 35005, 35009, 35055, 35059, 35061, 35062, 35072, 35102, 35293, 35295, 35323, 35447, 35592, 35652, 35653, 35658, 35668, 35685, 35738, 35812, 35840, 35857, 35862, 35873, 35896, 35956, 36017, 36024, 36031, 36104, 36136, 36137, 36148, 36162, 36210, 36252, 36264, 36278, 36307, 36319, 36359, 36449, 36452, 36476, 36495, 36497, 36607, 36709, 36716, 36765, 36770, 36787, 36827, 36833, 36984, 37031, 37107, 37179, 37229, 37252, 37258, 37270, 37293, 37350, 37360, 37361, 37381, 37388, 37396, 37481, 37520, 37523, 37599, 37713, 37752, 37883, 37900, 37919, 37931, 37949, 38016, 38028, 38053, 38073, 38091, 38151, 38158, 38226, 38258, 38300, 38356, 38370, 38432, 38455, 38473, 38475, 38482, 38652, 38655, 38719, 38735, 38748, 38807, 38814, 38815, 38872, 38879, 38884, 38953, 38994, 39030, 39067, 39110, 39118, 39137, 39161, 39174, 39212, 39217, 39231, 39326, 39378, 39409, 39413, 39438, 39469, 39477, 39546, 39575, 39711, 39793, 39800, 39820, 39999, 40004, 40021, 40031, 40053, 40091, 40112, 40175, 40182, 40194, 40206, 40288, 40299, 40318, 40367, 40447, 40497, 40601, 40615, 40622, 40657, 40845, 40856, 40858, 41099, 41148, 41169, 41172, 41207, 41306, 41317, 41402, 41403, 41412, 41443, 41459, 41492, 41573, 41595, 41632, 41683, 41710, 41714, 41730, 41807, 41808, 41857, 41891, 42046, 42047, 42086, 42157, 42214, 42222, 42232, 42311, 42394, 42405, 42411, 42452, 42475, 42478, 42512, 42553, 42564, 42567, 42593, 42675, 42704, 42733, 42755, 42835, 42845, 42959, 42962, 42982, 43077, 43226, 43275, 43281, 43483, 43486, 43551, 43556, 43586, 43590, 43690, 43791, 43849, 43883, 43999, 44039, 44042, 44071, 44238, 44276, 44284, 44317, 44358, 44369, 44412, 44527, 44624, 44672, 44726, 44741, 44757, 44789, 44796, 44804, 44808, 44865, 44893, 44894, 44900, 44986, 45020, 45069, 45079, 45126, 45144, 45151, 45234, 45325, 45391, 45410, 45504, 45506, 45542, 45591, 45679, 45685, 45713, 45757, 45773, 45860, 45929, 45976, 46050, 46055, 46135, 46147, 46157, 46193, 46207, 46245, 46326, 46434, 46439, 46537, 46547, 46585, 46599, 46611, 46833, 46903, 46974, 46975, 46981, 47017, 47104, 47110, 47111, 47125, 47186, 47227, 47230, 47276, 47297, 47325, 47343, 47346, 47366, 47421, 47467, 47492, 47495, 47501, 47520, 47536, 47545, 47712, 47729, 47736, 47802, 47838, 47919, 47953, 48019, 48076, 48139, 48142, 48144, 48195, 48256, 48270, 48346, 48378, 48431, 48468, 48547, 48620, 48664, 48702, 48703, 48705, 48710, 48722, 48750, 48766, 48838, 48984, 49034, 49037, 49112, 49116, 49259, 49325, 49328, 49340, 49350, 49361, 49375, 49394, 49396, 49414, 49420, 49460, 49545, 49564, 49635, 49704, 49720, 49743, 49829, 49891, 49892, 49929, 50071, 50074, 50135, 50175, 50220, 50241, 50253, 50266, 50309, 50326, 50377, 50378, 50431, 50454, 50534, 50538, 50571, 50581, 50650, 50709, 50852, 50871, 50876, 50916, 50928, 50982, 51090, 51097, 51174, 51321, 51334, 51373, 51399, 51455, 51458, 51500, 51568, 51569, 51573, 51574, 51606, 51648, 51701, 51737, 51741, 51744, 51876, 51910, 51939, 51951, 51984, 52020, 52055, 52139, 52198, 52227, 52353, 52420, 52455, 52531, 52538, 52547, 52550, 52574, 52615, 52662, 52704, 52734, 52748, 52760, 52824, 52827, 52845, 52848, 52879, 53057, 53059, 53116, 53147, 53155, 53215, 53216, 53318, 53338, 53360, 53461, 53476, 53517, 53550, 53624, 53716, 53719, 53856, 53928, 54057, 54084, 54210, 54283, 54317, 54378, 54385, 54403, 54408, 54482, 54493, 54575, 54581, 54587, 54594, 54606, 54660, 54704, 54744, 54801, 54802, 54905, 54914, 54927, 55018, 55091, 55129, 55143, 55145, 55176, 55250, 55257, 55287, 55339, 55401, 55422, 55487, 55502, 55522, 55557, 55637, 55690, 55737, 55760, 55774, 55821, 55822, 55855, 55876, 55885, 56015, 56102, 56109, 56141, 56250, 56286, 56304, 56375, 56389, 56404, 56405, 56516, 56782, 56837, 56843, 56872, 57078, 57111, 57177, 57256, 57321, 57322, 57397, 57414, 57422, 57515, 57517, 57522, 57544, 57545, 57594, 57625, 57664, 57813, 57908, 57933, 57995, 57998, 58036, 58085, 58208, 58212, 58293, 58315, 58366, 58380, 58393, 58424, 58456, 58554, 58560, 58564, 58581, 58640, 58651, 58689, 58705, 58886, 58926, 58944, 59029, 59046, 59260, 59265, 59270, 59279, 59312, 59378, 59407, 59417, 59428, 59429, 59447, 59475, 59492, 59507, 59524, 59560, 59657, 59661, 59716, 59734, 59752, 59805, 59817, 59917, 59921, 59980, 60041, 60064, 60173, 60215, 60241, 60250, 60368, 60404, 60444, 60459, 60521, 60570, 60577, 60624, 60644, 60676, 60722, 60728, 60753, 60766, 60802, 60811, 60816, 60818, 60846, 60913, 61020, 61038, 61190, 61229, 61236, 61244, 61262, 61286, 61313, 61320, 61339, 61406, 61427, 61428, 61442, 61466, 61473, 61479, 61537, 61557, 61604, 61652, 61748, 61752, 61771, 61803, 61834, 61856, 61886, 61961, 61999, 62083, 62157, 62185, 62197, 62232, 62233, 62269, 62275, 62281, 62380, 62392, 62479, 62490, 62540, 62554, 62603, 62650, 62743, 62812, 62893, 62911, 62923, 62929, 63005, 63093, 63104, 63147, 63167, 63232, 63235, 63264, 63273, 63473, 63490, 63545, 63576, 63596, 63642, 63658, 63682, 63799, 63940, 64070, 64081, 64132, 64140, 64190, 64195, 64288, 64331, 64335, 64363, 64399, 64465, 64475, 64510, 64534, 64543, 64567, 64574, 64581, 64613, 64621, 64628, 64714, 64740, 64751, 64833, 64839, 64854, 64899, 65030, 65062, 65073, 65086, 65093, 65176, 65206, 65260, 65271, 65272, 65286, 65457, 65558, 65609, 65710, 65718, 65727, 65742, 65805, 65812, 65831, 65973, 65986, 66007, 66067, 66092, 66120, 66124, 66143, 66153, 66241, 66378, 66402, 66468, 66481, 66512, 66558, 66563, 66588, 66590, 66682, 66723, 66760, 66806, 66884, 66885, 66929, 66990, 67024, 67041, 67181, 67182, 67218, 67228, 67276, 67305, 67335, 67380, 67457, 67532, 67588, 67649, 67715, 67802, 67806, 67819, 67835, 67887, 67925, 67995, 68019, 68033, 68122, 68124, 68156, 68187, 68194, 68282, 68420, 68562, 68650, 68655, 68661, 68663, 68729, 68740, 68758, 68791, 68802, 68888, 68924, 68932, 68950, 68979, 69058, 69079, 69082, 69114, 69119, 69122, 69147, 69159, 69224, 69387, 69394, 69396, 69490, 69544, 69574, 69592, 69610, 69631, 69738, 69819, 69897, 69900, 69938, 70048, 70059, 70081, 70163, 70173, 70225, 70275, 70300, 70317, 70351, 70391, 70439, 70619, 70649, 70784, 70791, 70844, 70888, 70994, 71023, 71024, 71064, 71070, 71108, 71182, 71345, 71371, 71394, 71429, 71477, 71500, 71549, 71553, 71576, 71629, 71658, 71750, 71761, 71841, 71910, 71929, 72016, 72031, 72076, 72101, 72107, 72207, 72238, 72261, 72344, 72355, 72371, 72377, 72419, 72483, 72491, 72510, 72547, 72555, 72596, 72660, 72730, 72853, 72860, 72955, 73007, 73010, 73013, 73037, 73038, 73053, 73065, 73104, 73134, 73175, 73220, 73248, 73288, 73452, 73494, 73509, 73573, 73694, 73705, 73726, 73740, 73755, 73756, 73770, 73799, 73833, 73900, 74073, 74098, 74173, 74187, 74221, 74459, 74465, 74618, 74643, 74650, 74769, 74789, 74919, 75046, 75074, 75079, 75154, 75169, 75173, 75288, 75296, 75357, 75378, 75392, 75411, 75434, 75505, 75556, 75584, 75604, 75619, 75637, 75645, 75655, 75862, 75873, 75910, 75919, 75936, 75944, 75951, 75989, 76060, 76188, 76229, 76241, 76299, 76426, 76474, 76521, 76530, 76534, 76652, 76692, 76791, 76795, 76813, 76815, 76831, 76881, 76988, 77002, 77035, 77075, 77094, 77185, 77190, 77272, 77316, 77348, 77350, 77402, 77471, 77536, 77542, 77640, 77677, 77734, 77752, 77753, 77798, 77902, 77921, 77924, 77945, 77993, 78037, 78139, 78203, 78231, 78266, 78343, 78377, 78467, 78476, 78563, 78892, 78937, 79015, 79043, 79067, 79083, 79103, 79129, 79164, 79191, 79210, 79219, 79361, 79436, 79442, 79475, 79495, 79521, 79614, 79663, 79723, 79756, 79855, 79908, 79968, 79975, 79980, 80049, 80082, 80093, 80171, 80311, 80336, 80343, 80351, 80418, 80440, 80442, 80661, 80740, 80754, 80786, 80797, 80822, 80835, 80919, 80967, 80977, 80986, 81030, 81093, 81096, 81213, 81224, 81310, 81336, 81386, 81399, 81528, 81569, 81617, 81657, 81702, 81734, 81772, 81795, 81854, 81910, 81973, 81993, 82065, 82069, 82087, 82134, 82191, 82205, 82250, 82252, 82261, 82269, 82288, 82312, 82345, 82355, 82387, 82415, 82456, 82481, 82518, 82524, 82549, 82596, 82646, 82690, 82725, 82782, 82786, 82798, 82799, 82803, 82824, 82904, 82909, 82927, 82929, 82965, 82987, 82999, 83015, 83047, 83232, 83330, 83454, 83490, 83513, 83547, 83603, 83648, 83701, 83716, 83783, 83799, 83805, 83835, 83898, 83953, 83956, 84037, 84090, 84201, 84348, 84411, 84412, 84467, 84469, 84693, 84724, 84733, 84741, 84782, 84901, 84905, 84949, 84968, 85000, 85036, 85070, 85150, 85275, 85335, 85443, 85482, 85486, 85547, 85553, 85574, 85606, 85694, 85708, 85731, 85854, 85879, 85986, 86039, 86070, 86091, 86160, 86237, 86244, 86262, 86287, 86333, 86336, 86350, 86377, 86409, 86495, 86502, 86551, 86556, 86586, 86643, 86692, 86722, 86748, 86796, 86821, 86834, 86869, 86950, 86965, 86976, 86982, 87012, 87034, 87054, 87056, 87108, 87109, 87139, 87170, 87192, 87194, 87195, 87272, 87290, 87319, 87326, 87344, 87381, 87469, 87477, 87565, 87569, 87620, 87655, 87698, 87710, 87785, 87811, 87828, 87851, 87882, 87898, 87929, 87934, 87940, 88025, 88122, 88132, 88153, 88172, 88193, 88194, 88209, 88211, 88271, 88334, 88340, 88343, 88409, 88450, 88479, 88489, 88509, 88585, 88672, 88703, 88716, 88724, 88784, 88793, 88852, 88860, 88873, 88875, 88902, 88938, 89000, 89023, 89107, 89291, 89324, 89388, 89398, 89508, 89514, 89519, 89546, 89554, 89710, 89767, 89785, 89789, 89853, 89893, 90008, 90013, 90155, 90205, 90304, 90331, 90360, 90366, 90449, 90452, 90477, 90515, 90622, 90624, 90658, 90685, 90750, 90778, 90784, 90798, 90808, 90849, 90926, 90951, 91051, 91098, 91106, 91128, 91174, 91189, 91261, 91296, 91302, 91303, 91318, 91388, 91399, 91420, 91479, 91546, 91559, 91568, 91667, 91675, 91699, 91709, 91750, 91783, 91883, 91937, 92066, 92139, 92153, 92181, 92281, 92366, 92374, 92404, 92409, 92504, 92575, 92694, 92731, 92770, 92782, 92860, 92911, 92958, 92970, 92976, 92978, 93003, 93055, 93071, 93171, 93179, 93180, 93185, 93200, 93344, 93345, 93395, 93398, 93411, 93418, 93527, 93608, 93610, 93692, 93705, 93707, 93745, 93786, 93881, 93915, 93941, 93955, 93973, 93987, 94019, 94149, 94152, 94207, 94256, 94287, 94302, 94363, 94387, 94412, 94419, 94434, 94437, 94455, 94469, 94507, 94537, 94574, 94583, 94640, 94651, 94660, 94717, 94737, 94747, 94785, 94795, 94808, 94816, 94831, 94926, 94959, 95029, 95041, 95135, 95221, 95232, 95260, 95274, 95285, 95330, 95340, 95342, 95403, 95475, 95484, 95508, 95522, 95588, 95646, 95774, 95804, 95895, 95912, 95932, 95943, 96012, 96029, 96035, 96186, 96188, 96410, 96525, 96555, 96590, 96660, 96687, 96715, 96780, 96801, 96844, 96887, 96921, 96939, 96995, 97172, 97204, 97236, 97328, 97344, 97377, 97385, 97441, 97456, 97474, 97556, 97618, 97628, 97637, 97669, 97744, 97806, 97936, 97947, 97973, 97976, 98025, 98031, 98033, 98093, 98182, 98191, 98209, 98224, 98248, 98253, 98291, 98354, 98456, 98491, 98613, 98649, 98656, 98778, 98809, 98901, 98921, 98989, 99034, 99049, 99084, 99125, 99167, 99251, 99350, 99384, 99442, 99493, 99526, 99561, 99566, 99616, 99625, 99668, 99709, 99741, 99757, 99760, 99773, 99779, 99797, 99805, 99813, 99854, 99870, 99886, 99894, 99897, 99990, 100036, 100119, 100120, 100138, 100153, 100156, 100158, 100206, 100214, 100288, 100297, 100403, 100433, 100438, 100464, 100534, 100624, 100628, 100678, 100706, 100738, 100767, 100812, 100818, 100934, 100976, 101053, 101086, 101135, 101177, 101273, 101283, 101296, 101346, 101359, 101438, 101450, 101456, 101530, 101536, 101543, 101585, 101604, 101656, 101671, 101721, 101759, 101780, 101840, 101850, 101866, 101879, 101906, 101910, 101928, 101996, 102076, 102078, 102152, 102160, 102187, 102258, 102282, 102314, 102336, 102353, 102373, 102422, 102491, 102579, 102641, 102655, 102676, 102732, 102747, 102760, 102820, 102841, 102861, 102894, 102957, 102964, 102966, 103002, 103025, 103056, 103098, 103227, 103238, 103257, 103288, 103394, 103425, 103459, 103477, 103592, 103613, 103675, 103742, 103745, 103773, 103793, 103888, 103898, 103935, 103959, 103988, 104000, 104012, 104143, 104210, 104230, 104234, 104239, 104269, 104310, 104415, 104438, 104452, 104489, 104555, 104615, 104672, 104685, 104795, 104826, 104844, 104923, 104972, 104988, 105000, 105007, 105012, 105025, 105033, 105042, 105073, 105088, 105111, 105126, 105151, 105155, 105177, 105293, 105297, 105314, 105333, 105334, 105353, 105360, 105380, 105387, 105397, 105415, 105467, 105529, 105606, 105610, 105611, 105613, 105619, 105684, 105697, 105730, 105816, 105851, 105855, 105875, 105900, 106025, 106026, 106203, 106219, 106279, 106299, 106335, 106395, 106476, 106477, 106577, 106580, 106759, 106923, 106949, 106975, 107000, 107011, 107053, 107079, 107239, 107242, 107279, 107361, 107364, 107427, 107478, 107538, 107581, 107651, 107721, 107832, 107862, 107871, 107880, 107969, 108115, 108285, 108286, 108436, 108454, 108498, 108535, 108601, 108607, 108618, 108651, 108707, 108794, 108841, 108897, 108903, 108998, 109003, 109017, 109181, 109239, 109287, 109341, 109386, 109397, 109401, 109404, 109416, 109492, 109493, 109501, 109506, 109510, 109612, 109616, 109643, 109686, 109704, 109772, 109782, 109814, 109837, 109960, 109961, 110022, 110071, 110073, 110128, 110176, 110180, 110181, 110282, 110343, 110357, 110360, 110398, 110424, 110504, 110580, 110739, 110769, 110871, 110919, 110963, 110985, 111243, 111365, 111376, 111447, 111534, 111556, 111597, 111607, 111610, 111670, 111720, 111751, 111900, 111905, 111919, 111993, 112013, 112076, 112112, 112162, 112166, 112176, 112191, 112212, 112222, 112288, 112306, 112310, 112354, 112364, 112392, 112528, 112594, 112629, 112691, 112725, 112736, 112804, 112881, 112913, 112951, 112983, 113002, 113017, 113089, 113156, 113179, 113180, 113212, 113248, 113301, 113350, 113354, 113383, 113440, 113484, 113527, 113693, 113799, 113817, 113901, 114011, 114085, 114107, 114136, 114137, 114166, 114188, 114227, 114239, 114277, 114400, 114404, 114447, 114543, 114544, 114591, 114635, 114679, 114719, 114729, 114751, 114756, 114808, 114813, 114821, 114884, 114889, 114960, 115043, 115093, 115183, 115200, 115212, 115315, 115371, 115460, 115502, 115525, 115544, 115592, 115598, 115602, 115607, 115634, 115639, 115704, 115757, 115868, 115880, 116036, 116081, 116091, 116101, 116174, 116180, 116203, 116204, 116222, 116248, 116264, 116438, 116491, 116516, 116549, 116550, 116666, 116708, 116712, 116741, 116754, 116822, 116863, 116917, 116986, 116990, 116994, 117000, 117031, 117056, 117063, 117069, 117070, 117079, 117122, 117139, 117181, 117206, 117245, 117268, 117283, 117284, 117300, 117304, 117305, 117378, 117473, 117512, 117531, 117608, 117625, 117691, 117712, 117749, 117771, 117781, 117812, 117834, 117852, 117934, 118009, 118087, 118114, 118244, 118308, 118390, 118407, 118432, 118454, 118473, 118571, 118580, 118609, 118611, 118849, 118856, 118964, 118987, 119004, 119033, 119075, 119084, 119194, 119245, 119301, 119308, 119344, 119436, 119528, 119566, 119700, 119768, 119800, 119827, 119904, 120014, 120026, 120045, 120064, 120096, 120108, 120147, 120195, 120262, 120299, 120324, 120354, 120491, 120498, 120529, 120549, 120566, 120606, 120618, 120788, 120863, 120926, 121009, 121026, 121043, 121049, 121082, 121116, 121173, 121182, 121200, 121237, 121262, 121281, 121288, 121326, 121403, 121418, 121424, 121459, 121483, 121519, 121564, 121627, 121629, 121660, 121742, 121744, 121915, 121934, 121942, 122047, 122118, 122128, 122130, 122143, 122154, 122165, 122182, 122306, 122432, 122508, 122558, 122598, 122637, 122644, 122682, 122766, 122774, 122777, 122862, 122866, 122920, 122964, 122977, 123030, 123058, 123106, 123170, 123225, 123250, 123264, 123280, 123298, 123423, 123434, 123436, 123499, 123549, 123571, 123659, 123751, 123786, 123787, 123803, 123847, 123868, 123872, 123880, 123881, 123892, 123973, 123983, 123994, 124126, 124163, 124196, 124320, 124325, 124327, 124335, 124343, 124358, 124374, 124387, 124401, 124501, 124512, 124518, 124539, 124604, 124638, 124644, 124652, 124683, 124705, 124714, 124792, 124800, 124812, 124814, 124822, 124825, 124833, 124919, 124940, 124987, 125037, 125065, 125068, 125082, 125118, 125155, 125238, 125243, 125332, 125338, 125347, 125429, 125485, 125549, 125582, 125668, 125696, 125743, 125756, 125833, 125843]\n"
     ]
    }
   ],
   "source": [
    "# Outlier detection for train dataset\n",
    "import pandas as pd\n",
    "import statsmodels.api as sm\n",
    "import matplotlib.pyplot as plt\n",
    "\n",
    "# Load CSV\n",
    "df = pd.read_csv(\"train_.csv\")\n",
    "\n",
    "# Example: Use numeric columns only\n",
    "numeric_cols = df.select_dtypes(include=['int64','float64']).columns.tolist()\n",
    "\n",
    "# For demonstration, let's predict 'duration' using other numeric features\n",
    "X = df[numeric_cols].drop(\"duration\", axis=1)\n",
    "y = df[\"duration\"]\n",
    "\n",
    "# Add constant term for intercept\n",
    "X = sm.add_constant(X)\n",
    "\n",
    "# Fit OLS regression model\n",
    "model = sm.OLS(y, X).fit()\n",
    "\n",
    "# Get Cook's distance\n",
    "influence = model.get_influence()\n",
    "cooks = influence.cooks_distance[0]\n",
    "\n",
    "# Plot Cook's distance\n",
    "plt.figure(figsize=(10,6))\n",
    "plt.stem(cooks, markerfmt=\",\")\n",
    "plt.xlabel(\"Observation index\")\n",
    "plt.ylabel(\"Cook's Distance\")\n",
    "plt.title(\"Cook's Distance for Outlier Detection for train dataset\")\n",
    "plt.show()\n",
    "\n",
    "# Optional: Identify influential points (commonly if Cook's D > 4/n)\n",
    "n = len(df)\n",
    "threshold = 4 / n\n",
    "outliers = df.index[cooks > threshold].tolist()\n",
    "print(f\"Influential points (outliers) detected: {outliers}\")\n",
    "\n"
   ]
  },
  {
   "cell_type": "code",
   "execution_count": 13,
   "id": "89621af3",
   "metadata": {},
   "outputs": [
    {
     "name": "stderr",
     "output_type": "stream",
     "text": [
      "C:\\Users\\kavya\\AppData\\Local\\Temp\\ipykernel_7316\\121731020.py:7: DtypeWarning: Columns (25,27,30,33,34,35,36,37,38,39,40) have mixed types. Specify dtype option on import or set low_memory=False.\n",
      "  df = pd.read_csv(\"test_.csv\")\n"
     ]
    },
    {
     "data": {
      "image/png": "[encoded data removed]",
      "text/plain": [
       "<Figure size 1000x600 with 1 Axes>"
      ]
     },
     "metadata": {},
     "output_type": "display_data"
    },
    {
     "name": "stdout",
     "output_type": "stream",
     "text": [
      "Influential points (outliers) detected: [0, 14, 58, 77, 112, 113, 134, 149, 156, 170, 191, 331, 348, 381, 384, 390, 408, 459, 478, 486, 502, 598, 629, 677, 679, 765, 805, 808, 812, 870, 894, 895, 949, 967, 995, 1009, 1138, 1150, 1167, 1258, 1291, 1297, 1395, 1400, 1435, 1544, 1546, 1611, 1616, 1791, 1796, 1936, 2012, 2044, 2101, 2177, 2253, 2257, 2331, 2343, 2367, 2374, 2400, 2416, 2436, 2456, 2498, 2511, 2541, 2552, 2595, 2619, 2679, 2745, 2746, 2756, 2778, 2839, 2870, 2935, 2945, 2947, 2953, 3044, 3093, 3120, 3135, 3209, 3243, 3306, 3324, 3409, 3417, 3438, 3523, 3652, 3655, 3663, 3731, 3780, 3792, 3797, 3878, 3898, 4046, 4067, 4099, 4133, 4158, 4170, 4171, 4247, 4270, 4302, 4333, 4336, 4360, 4383, 4437, 4462, 4486, 4659, 4710, 4754, 4788, 4828, 4859, 4878, 4892, 4920, 4974, 5038, 5062, 5113, 5146, 5294, 5298, 5344, 5401, 5412, 5441, 5458, 5479, 5531, 5551, 5575, 5726, 5746, 5774, 5800, 5809, 5811, 5858, 5864, 5865, 5891, 5899, 5948, 5986, 6020, 6061, 6105, 6133, 6134, 6187, 6261, 6402, 6414, 6420, 6510, 6536, 6587, 6606, 6651, 6677, 6709, 6741, 6853, 6871, 6887, 6908, 6937, 6986, 7027, 7070, 7131, 7143, 7157, 7178, 7181, 7297, 7316, 7355, 7359, 7404, 7502, 7530, 7555, 7570, 7614, 7788, 7802, 7821, 7885, 7961, 8027, 8075, 8168, 8227, 8276, 8328, 8333, 8398, 8458, 8483, 8495, 8599, 8612, 8706, 8715, 8742, 8766, 8801, 8819, 8864, 8994, 9118, 9153, 9280, 9284, 9307, 9337, 9553, 9567, 9576, 9613, 9622, 9697, 9740, 9804, 9814, 9822, 9915, 9922, 9966, 10005, 10038, 10107, 10161, 10266, 10329, 10372, 10392, 10447, 10485, 10578, 10601, 10620, 10678, 10743, 10761, 10765, 10935, 10982, 10995, 10998, 11052, 11079, 11085, 11087, 11157, 11176, 11224, 11237, 11240, 11314, 11408, 11420, 11457, 11462, 11501, 11514, 11564, 11620, 11755, 11765, 11785, 11946, 11970, 11980, 11983, 12011, 12024, 12100, 12114, 12129, 12156, 12166, 12191, 12197, 12203, 12275, 12500, 12502, 12530, 12572, 12619, 12625, 12661, 12719, 12767, 12870, 12950, 12954, 13120, 13181, 13243, 13291, 13293, 13324, 13347, 13427, 13456, 13484, 13489, 13533, 13566, 13610, 13634, 13639, 13656, 13806, 13808, 13854, 13861, 13876, 14021, 14039, 14046, 14148, 14201, 14229, 14236, 14316, 14374, 14439, 14485, 14496, 14500, 14503, 14540, 14578, 14641, 14646, 14745, 14794, 14801, 14823, 14961, 15021, 15051, 15120, 15166, 15220, 15255, 15306, 15470, 15488, 15494, 15553, 15584, 15725, 15824, 15873, 15908, 15970, 15977, 15991, 15995, 16009, 16158, 16171, 16191, 16193, 16275, 16320, 16337, 16379, 16428, 16437, 16440, 16459, 16487, 16491, 16513, 16544, 16574, 16597, 16611, 16648, 16660, 16679, 16684, 16686, 16687, 16732, 16737, 16754, 16776, 16779, 16799, 16877, 16912, 16930, 16943, 16961, 17018, 17080, 17109, 17197, 17221, 17253, 17260, 17291, 17491, 17539, 17593, 17617, 17655, 17693, 17734, 17982, 18031, 18039, 18124, 18198, 18224, 18283, 18317, 18325, 18409, 18491, 18493, 18540, 18543, 18640, 18699, 18744, 18745, 18764, 18792, 18831, 18853, 18862, 18885, 18920, 18974, 19031, 19109, 19201, 19250, 19309, 19354, 19374, 19391, 19399, 19508, 19526, 19550, 19582, 19667, 19697, 19744, 19748, 19751, 19802, 19977, 20037, 20052, 20057, 20067, 20071, 20128, 20129, 20141, 20198, 20219, 20229, 20251, 20290, 20314, 20322, 20417, 20474, 20498, 20547, 20555, 20681, 20696, 20700, 20734, 20764, 20833, 20861, 20886, 20894, 20901, 20910, 20917, 20949, 20987, 21038, 21076, 21097, 21102, 21270, 21305, 21329, 21339, 21408, 21531, 21610, 21641, 21712, 21732, 21736, 21784, 21791, 21795, 21858, 21878, 22010, 22060, 22155, 22193, 22195, 22209, 22243, 22262, 22299, 22353, 22432, 22517, 22519]\n"
     ]
    }
   ],
   "source": [
    "# Outlier detection for train dataset\n",
    "import pandas as pd\n",
    "import statsmodels.api as sm\n",
    "import matplotlib.pyplot as plt\n",
    "\n",
    "# Load CSV\n",
    "df = pd.read_csv(\"test_.csv\")\n",
    "\n",
    "# Example: Use numeric columns only\n",
    "numeric_cols = df.select_dtypes(include=['int64','float64']).columns.tolist()\n",
    "\n",
    "# For demonstration, let's predict 'duration' using other numeric features\n",
    "X = df[numeric_cols].drop(\"duration\", axis=1)\n",
    "y = df[\"duration\"]\n",
    "\n",
    "# Add constant term for intercept\n",
    "X = sm.add_constant(X)\n",
    "\n",
    "# Fit OLS regression model\n",
    "model = sm.OLS(y, X).fit()\n",
    "\n",
    "# Get Cook's distance\n",
    "influence = model.get_influence()\n",
    "cooks = influence.cooks_distance[0]\n",
    "\n",
    "# Plot Cook's distance\n",
    "plt.figure(figsize=(10,6))\n",
    "plt.stem(cooks, markerfmt=\",\")\n",
    "plt.xlabel(\"Observation index\")\n",
    "plt.ylabel(\"Cook's Distance\")\n",
    "plt.title(\"Cook's Distance for Outlier Detection for test dataset\")\n",
    "plt.show()\n",
    "\n",
    "# Optional: Identify influential points (commonly if Cook's D > 4/n)\n",
    "n = len(df)\n",
    "threshold = 4 / n\n",
    "outliers = df.index[cooks > threshold].tolist()\n",
    "print(f\"Influential points (outliers) detected: {outliers}\")\n",
    "\n"
   ]
  },
  {
   "cell_type": "code",
   "execution_count": 20,
   "id": "a4ad2d16",
   "metadata": {},
   "outputs": [
    {
     "name": "stdout",
     "output_type": "stream",
     "text": [
      "Top 15 features:\n",
      " src_bytes                 0.225965\n",
      "dst_bytes                 0.147962\n",
      "same_srv_rate             0.106214\n",
      "dst_host_same_srv_rate    0.091288\n",
      "difficulty                0.088368\n",
      "dst_host_srv_count        0.063197\n",
      "dst_host_diff_srv_rate    0.060548\n",
      "count                     0.052982\n",
      "logged_in                 0.040702\n",
      "serror_rate               0.036121\n",
      "dst_host_count            0.027258\n",
      "srv_count                 0.023220\n",
      "dst_host_rerror_rate      0.015159\n",
      "hot                       0.007111\n",
      "num_compromised           0.004245\n",
      "dtype: float64\n"
     ]
    }
   ],
   "source": [
    "from sklearn.ensemble import RandomForestClassifier\n",
    "import pandas as pd\n",
    "\n",
    "X_train_fs = df_train[feature_cols]\n",
    "y_train_fs = df_train['label_bin']\n",
    "\n",
    "rf = RandomForestClassifier(n_estimators=100, random_state=42, n_jobs=-1)\n",
    "rf.fit(X_train_fs, y_train_fs)\n",
    "\n",
    "importances = pd.Series(rf.feature_importances_, index=feature_cols).sort_values(ascending=False)\n",
    "print(\"Top 15 features:\\n\", importances.head(15))\n"
   ]
  }
 ],
 "metadata": {
  "kernelspec": {
   "display_name": "Python (myenv)",
   "language": "python",
   "name": "myenv"
  },
  "language_info": {
   "codemirror_mode": {
    "name": "ipython",
    "version": 3
   },
   "file_extension": ".py",
   "mimetype": "text/x-python",
   "name": "python",
   "nbconvert_exporter": "python",
   "pygments_lexer": "ipython3",
   "version": "3.13.4"
  }
 },
 "nbformat": 4,
 "nbformat_minor": 5
}
