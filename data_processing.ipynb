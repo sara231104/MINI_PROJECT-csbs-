{
 "cells": [
  {
   "cell_type": "code",
   "execution_count": 3,
   "id": "d882e6a6",
   "metadata": {},
   "outputs": [
    {
     "name": "stdout",
     "output_type": "stream",
     "text": [
      "   duration  protocol_type  service  flag  src_bytes  dst_bytes  land  \\\n",
      "0         0              1       45     1        0.1        0.2   0.3   \n",
      "1         0              1       45     1        0.0        0.0   0.0   \n",
      "2         2              1       19     9    12983.0        0.0   0.0   \n",
      "3         0              0       13     9       20.0        0.0   0.0   \n",
      "4         1              1       55     2        0.0       15.0   0.0   \n",
      "\n",
      "   wrong_fragment  urgent  hot  ...  dst_host_same_srv_rate  \\\n",
      "0             0.4     0.5  0.6  ...                  0.04.1   \n",
      "1             0.0     0.0  0.0  ...                     0.0   \n",
      "2             0.0     0.0  0.0  ...                    0.61   \n",
      "3             0.0     0.0  0.0  ...                     1.0   \n",
      "4             0.0     0.0  0.0  ...                    0.31   \n",
      "\n",
      "   dst_host_diff_srv_rate  dst_host_same_src_port_rate  \\\n",
      "0                  0.06.1                       0.00.3   \n",
      "1                    0.06                          0.0   \n",
      "2                    0.04                         0.61   \n",
      "3                     0.0                          1.0   \n",
      "4                    0.17                         0.03   \n",
      "\n",
      "   dst_host_srv_diff_host_rate  dst_host_serror_rate  \\\n",
      "0                       0.00.4                0.00.5   \n",
      "1                          0.0                   0.0   \n",
      "2                         0.02                   0.0   \n",
      "3                         0.28                   0.0   \n",
      "4                         0.02                   0.0   \n",
      "\n",
      "   dst_host_srv_serror_rate  dst_host_rerror_rate  dst_host_srv_rerror_rate  \\\n",
      "0                    0.00.6                1.00.2                    1.00.3   \n",
      "1                       0.0                   1.0                       1.0   \n",
      "2                       0.0                   0.0                       0.0   \n",
      "3                       0.0                   0.0                       0.0   \n",
      "4                       0.0                  0.83                      0.71   \n",
      "\n",
      "     label  difficulty  \n",
      "0  neptune          21  \n",
      "1  neptune          21  \n",
      "2   normal          21  \n",
      "3    saint          15  \n",
      "4    mscan          11  \n",
      "\n",
      "[5 rows x 43 columns]\n"
     ]
    },
    {
     "name": "stderr",
     "output_type": "stream",
     "text": [
      "C:\\Users\\kavya\\AppData\\Local\\Temp\\ipykernel_7316\\3399412714.py:6: DtypeWarning: Columns (25,27,30,33,34,35,36,37,38,39,40) have mixed types. Specify dtype option on import or set low_memory=False.\n",
      "  df = pd.read_csv(\"test_.csv\")\n"
     ]
    }
   ],
   "source": [
    "\n",
    "#label encoding for test_dataset\n",
    "import pandas as pd\n",
    "from sklearn.preprocessing import LabelEncoder\n",
    "\n",
    "# Load your dataset\n",
    "df = pd.read_csv(\"test_.csv\")\n",
    "\n",
    "# Columns that need label encoding\n",
    "categorical_cols = ['protocol_type', 'service', 'flag']\n",
    "\n",
    "# Apply Label Encoding\n",
    "label_encoders = {}\n",
    "for col in categorical_cols:\n",
    "    le = LabelEncoder()\n",
    "    df[col] = le.fit_transform(df[col])\n",
    "    label_encoders[col] = le  # store encoder for inverse transform if needed\n",
    "\n",
    "# Check result\n",
    "print(df.head())"
   ]
  },
  {
   "cell_type": "code",
   "execution_count": 4,
   "id": "bf9a065f",
   "metadata": {},
   "outputs": [
    {
     "name": "stdout",
     "output_type": "stream",
     "text": [
      "   duration  protocol_type  service  flag  src_bytes  dst_bytes  land  \\\n",
      "0         0              1       20     9        491        0.1   0.2   \n",
      "1         0              2       44     9        146        0.0   0.0   \n",
      "2         0              1       49     5          0        0.0   0.0   \n",
      "3         0              1       24     9        232     8153.0   0.0   \n",
      "4         0              1       24     9        199      420.0   0.0   \n",
      "\n",
      "   wrong_fragment  urgent  hot  ...  dst_host_same_srv_rate  \\\n",
      "0             0.3     0.4  0.5  ...                    0.17   \n",
      "1             0.0     0.0  0.0  ...                    0.00   \n",
      "2             0.0     0.0  0.0  ...                    0.10   \n",
      "3             0.0     0.0  0.0  ...                    1.00   \n",
      "4             0.0     0.0  0.0  ...                    1.00   \n",
      "\n",
      "   dst_host_diff_srv_rate  dst_host_same_src_port_rate  \\\n",
      "0                    0.03                       0.17.1   \n",
      "1                    0.60                         0.88   \n",
      "2                    0.05                          0.0   \n",
      "3                    0.00                         0.03   \n",
      "4                    0.00                          0.0   \n",
      "\n",
      "   dst_host_srv_diff_host_rate  dst_host_serror_rate  \\\n",
      "0                       0.00.6                0.00.7   \n",
      "1                          0.0                   0.0   \n",
      "2                          0.0                   1.0   \n",
      "3                         0.04                  0.03   \n",
      "4                          0.0                   0.0   \n",
      "\n",
      "   dst_host_srv_serror_rate  dst_host_rerror_rate  dst_host_srv_rerror_rate  \\\n",
      "0                    0.00.8                  0.05                    0.00.9   \n",
      "1                       0.0                  0.00                       0.0   \n",
      "2                       1.0                  0.00                       0.0   \n",
      "3                      0.01                  0.00                      0.01   \n",
      "4                       0.0                  0.00                       0.0   \n",
      "\n",
      "     label  difficulty  \n",
      "0   normal          20  \n",
      "1   normal          15  \n",
      "2  neptune          19  \n",
      "3   normal          21  \n",
      "4   normal          21  \n",
      "\n",
      "[5 rows x 43 columns]\n"
     ]
    },
    {
     "name": "stderr",
     "output_type": "stream",
     "text": [
      "C:\\Users\\kavya\\AppData\\Local\\Temp\\ipykernel_7316\\3462859422.py:7: DtypeWarning: Columns (25,26,27,29,30,35,36,37,38,40) have mixed types. Specify dtype option on import or set low_memory=False.\n",
      "  df = pd.read_csv(\"train_.csv\")\n"
     ]
    }
   ],
   "source": [
    "#label encoding for train dataset\n",
    "\n",
    "import pandas as pd\n",
    "from sklearn.preprocessing import LabelEncoder\n",
    "\n",
    "# Load your dataset\n",
    "df = pd.read_csv(\"train_.csv\")\n",
    "\n",
    "# Columns that need label encoding\n",
    "categorical_cols = ['protocol_type', 'service', 'flag']\n",
    "\n",
    "# Apply Label Encoding\n",
    "label_encoders = {}\n",
    "for col in categorical_cols:\n",
    "    le = LabelEncoder()\n",
    "    df[col] = le.fit_transform(df[col])\n",
    "    label_encoders[col] = le  # store encoder for inverse transform if needed\n",
    "\n",
    "# Check result\n",
    "print(df.head())"
   ]
  },
  {
   "cell_type": "code",
   "execution_count": null,
   "id": "67019b35",
   "metadata": {},
   "outputs": [
    {
     "name": "stderr",
     "output_type": "stream",
     "text": [
      "C:\\Users\\kavya\\AppData\\Local\\Temp\\ipykernel_7316\\183443481.py:5: DtypeWarning: Columns (25,26,27,29,30,35,36,37,38,40) have mixed types. Specify dtype option on import or set low_memory=False.\n",
      "  df = pd.read_csv(\"train_.csv\")\n"
     ]
    }
   ],
   "source": [
    "#minmax normaization for test dataset\n",
    "\n",
    "import pandas as pd\n",
    "from sklearn.preprocessing import MinMaxScaler\n",
    "\n",
    "# Load CSV with headers\n",
    "df = pd.read_csv(\"train_.csv\")\n",
    "\n",
    "# Select numeric columns only (exclude categorical like protocol_type, service, flag, label, difficulty)\n",
    "numeric_cols = df.select_dtypes(include=['int64','float64']).columns\n",
    "\n",
    "# Initialize MinMaxScaler\n",
    "scaler = MinMaxScaler()\n",
    "\n",
    "# Apply Min-Max scaling\n",
    "df[numeric_cols] = scaler.fit_transform(df[numeric_cols])\n",
    "\n",
    "# Save normalized CSV\n",
    "df.to_csv(\"train_normalized.csv\", index=False)\n"
   ]
  },
  {
   "cell_type": "code",
   "execution_count": null,
   "id": "9649ca14",
   "metadata": {},
   "outputs": [
    {
     "name": "stderr",
     "output_type": "stream",
     "text": [
      "C:\\Users\\kavya\\AppData\\Local\\Temp\\ipykernel_7316\\663773597.py:5: DtypeWarning: Columns (25,27,30,33,34,35,36,37,38,39,40) have mixed types. Specify dtype option on import or set low_memory=False.\n",
      "  df = pd.read_csv(\"test_.csv\")\n"
     ]
    }
   ],
   "source": [
    "#minmax normaization for test dataset\n",
    "\n",
    "import pandas as pd\n",
    "from sklearn.preprocessing import MinMaxScaler\n",
    "\n",
    "# Load CSV with headers\n",
    "df = pd.read_csv(\"test_.csv\")\n",
    "\n",
    "# Select numeric columns only (exclude categorical like protocol_type, service, flag, label, difficulty)\n",
    "numeric_cols = df.select_dtypes(include=['int64','float64']).columns\n",
    "\n",
    "# Initialize MinMaxScaler\n",
    "scaler = MinMaxScaler()\n",
    "\n",
    "# Apply Min-Max scaling\n",
    "df[numeric_cols] = scaler.fit_transform(df[numeric_cols])\n",
    "\n",
    "# Save normalized CSV\n",
    "df.to_csv(\"test_normalized.csv\", index=False)\n"
   ]
  }
 ],
 "metadata": {
  "kernelspec": {
   "display_name": "Python (myenv)",
   "language": "python",
   "name": "myenv"
  },
  "language_info": {
   "codemirror_mode": {
    "name": "ipython",
    "version": 3
   },
   "file_extension": ".py",
   "mimetype": "text/x-python",
   "name": "python",
   "nbconvert_exporter": "python",
   "pygments_lexer": "ipython3",
   "version": "3.13.4"
  }
 },
 "nbformat": 4,
 "nbformat_minor": 5
}
